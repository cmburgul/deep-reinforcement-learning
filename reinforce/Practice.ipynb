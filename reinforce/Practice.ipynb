{
 "cells": [
  {
   "cell_type": "markdown",
   "metadata": {},
   "source": [
    "# Reinforce\n"
   ]
  },
  {
   "cell_type": "markdown",
   "metadata": {},
   "source": [
    "In this notebook we will train OpenAI Gym's CartPole environmnet with REINFORCE Algorithm"
   ]
  },
  {
   "cell_type": "markdown",
   "metadata": {},
   "source": [
    "### 1. Import Necessary Packages"
   ]
  },
  {
   "cell_type": "code",
   "execution_count": 1,
   "metadata": {},
   "outputs": [],
   "source": [
    "import gym\n",
    "import numpy as np\n",
    "from collections import deque\n",
    "import matplotlib.pyplot as plt\n",
    "%matplotlib inline\n",
    "\n",
    "import torch\n",
    "import torch.nn as nn\n",
    "import torch.nn.functional as F\n",
    "import torch.optim as optim\n",
    "from torch.distributions import Categorical"
   ]
  },
  {
   "cell_type": "markdown",
   "metadata": {},
   "source": [
    "### 2. Define Architecture of the Policy"
   ]
  },
  {
   "cell_type": "code",
   "execution_count": 2,
   "metadata": {},
   "outputs": [
    {
     "name": "stdout",
     "output_type": "stream",
     "text": [
      "Observation space :  Box(4,)\n",
      "Action space :  Discrete(2)\n"
     ]
    }
   ],
   "source": [
    "env = gym.make('CartPole-v0')\n",
    "print('Observation space : ', env.observation_space)\n",
    "print('Action space : ', env.action_space)\n",
    "\n",
    "device = torch.device(\"cuda:0\" if torch.cuda.is_available() else \"cpu\")"
   ]
  },
  {
   "cell_type": "code",
   "execution_count": 3,
   "metadata": {},
   "outputs": [
    {
     "data": {
      "text/plain": [
       "[0]"
      ]
     },
     "execution_count": 3,
     "metadata": {},
     "output_type": "execute_result"
    }
   ],
   "source": [
    "gym.logger.set_level(40)\n",
    "# Random seed\n",
    "torch.manual_seed(0)\n",
    "env.seed(0)\n"
   ]
  },
  {
   "cell_type": "code",
   "execution_count": 4,
   "metadata": {},
   "outputs": [],
   "source": [
    "class Policy(nn.Module):\n",
    "    def __init__(self, state_size = 4, hidden_size = 16, action_size = 2):\n",
    "        super(Policy, self).__init__()\n",
    "        self.fc1 = nn.Linear(state_size, hidden_size)\n",
    "        self.fc2 = nn.Linear(hidden_size, action_size)\n",
    "        \n",
    "    def forward(self, x):\n",
    "        x = F.relu(self.fc1(x))\n",
    "        x = self.fc2(x)\n",
    "        return F.softmax(x, dim=1)\n",
    "    \n",
    "    def act(self,state):\n",
    "        state = torch.from_numpy(state).float().unsqueeze(0).to(device)\n",
    "        probs = self.forward(state).cpu()\n",
    "        m = Categorical(probs)\n",
    "        action = m.sample()\n",
    "        return action.item(), m.log_prob(action)"
   ]
  },
  {
   "cell_type": "code",
   "execution_count": 5,
   "metadata": {},
   "outputs": [
    {
     "name": "stdout",
     "output_type": "stream",
     "text": [
      "[-0.04456399  0.04653909  0.01326909 -0.02099827]\n"
     ]
    }
   ],
   "source": [
    "# Practice\n",
    "state = env.reset()\n",
    "print(state)"
   ]
  },
  {
   "cell_type": "code",
   "execution_count": 6,
   "metadata": {},
   "outputs": [
    {
     "name": "stdout",
     "output_type": "stream",
     "text": [
      "tensor(1.00000e-02 *\n",
      "       [[-4.4564,  4.6539,  1.3269, -2.0998]], device='cuda:0')\n"
     ]
    }
   ],
   "source": [
    "# Practice\n",
    "state = torch.from_numpy(state).float().unsqueeze(0).to(device)\n",
    "print(state)"
   ]
  },
  {
   "cell_type": "code",
   "execution_count": 7,
   "metadata": {},
   "outputs": [
    {
     "name": "stdout",
     "output_type": "stream",
     "text": [
      "tensor([[ 0.4105,  0.5895]])\n"
     ]
    }
   ],
   "source": [
    "# Practice\n",
    "policy = Policy().to(device)\n",
    "probs = policy.forward(state).cpu()\n",
    "print(probs)"
   ]
  },
  {
   "cell_type": "code",
   "execution_count": 8,
   "metadata": {},
   "outputs": [
    {
     "name": "stdout",
     "output_type": "stream",
     "text": [
      "Categorical()\n"
     ]
    }
   ],
   "source": [
    "# Practice\n",
    "m = Categorical(probs)\n",
    "print(m)"
   ]
  },
  {
   "cell_type": "code",
   "execution_count": 9,
   "metadata": {},
   "outputs": [
    {
     "name": "stdout",
     "output_type": "stream",
     "text": [
      "tensor([ 0.9900,  0.0100])\n",
      "action :  tensor(0)\n",
      "action.item() :  0\n",
      "b.log_prob(action) :  tensor(1.00000e-02 *\n",
      "       -1.0050)\n"
     ]
    }
   ],
   "source": [
    "# Practice\n",
    "#a = np.array([0.6, 0.4])\n",
    "#a = torch.from_numpy(a).float().unsqueeze(0).to(device)\n",
    "a = torch.tensor([0.99, 0.01])\n",
    "print(a)\n",
    "\n",
    "b = Categorical(a)\n",
    "action = b.sample()\n",
    "\n",
    "print(\"action : \", action)\n",
    "print(\"action.item() : \", action.item())\n",
    "print(\"b.log_prob(action) : \", b.log_prob(action))"
   ]
  },
  {
   "cell_type": "markdown",
   "metadata": {},
   "source": [
    "## 3. Train the Agent with REINFORCE"
   ]
  },
  {
   "cell_type": "code",
   "execution_count": 25,
   "metadata": {},
   "outputs": [
    {
     "name": "stdout",
     "output_type": "stream",
     "text": [
      "Episode 100\tAverage Score: 20.56\n",
      "Episode 200\tAverage Score: 21.08\n",
      "Episode 300\tAverage Score: 49.97\n",
      "Episode 400\tAverage Score: 64.72\n",
      "Episode 500\tAverage Score: 89.37\n",
      "Episode 600\tAverage Score: 76.94\n",
      "Episode 700\tAverage Score: 97.01\n",
      "Episode 800\tAverage Score: 83.49\n",
      "Episode 900\tAverage Score: 44.83\n",
      "Episode 1000\tAverage Score: 46.34\n"
     ]
    }
   ],
   "source": [
    "# Practice\n",
    "policy = Policy().to(device)\n",
    "optimizer = optim.Adam(policy.parameters(), lr=1e-2)\n",
    "\n",
    "num_episodes= 1000\n",
    "max_t = 100\n",
    "gamma = 1.0\n",
    "print_every = 100\n",
    "\n",
    "scores_deque = deque(maxlen=100)\n",
    "scores = []\n",
    "for i_episode in range(1, num_episodes+1):\n",
    "    saved_log_probs = []\n",
    "    rewards = []\n",
    "    state = env.reset()\n",
    "    for t in range(max_t):\n",
    "        action, log_prob = policy.act(state)\n",
    "        saved_log_probs.append(log_prob)\n",
    "        state, reward, done, _ = env.step(action)\n",
    "        rewards.append(reward)\n",
    "        if done:\n",
    "            break\n",
    "    scores_deque.append(sum(rewards))\n",
    "    scores.append(sum(rewards))\n",
    "\n",
    "\n",
    "\n",
    "    discounts = [ gamma**i for i in range(len(rewards)+1)]\n",
    "    R = sum( [ a*b for a,b in zip(discounts, rewards) ] )\n",
    "\n",
    "    #print(\"discounts :\", discounts)\n",
    "    #print(\"Rewards :\", rewards)\n",
    "    #print(\"saved_log_probs :\", saved_log_probs)\n",
    "\n",
    "    policy_loss = []\n",
    "    for log_prob in saved_log_probs:\n",
    "        policy_loss.append(-log_prob * R)\n",
    "        #print(policy_loss)\n",
    "    policy_loss = torch.cat(policy_loss).sum()\n",
    "    #print(\"policy_loss : \", policy_loss)\n",
    "    # torch.cat -> Concatenates the given sequence of seq tensor in the given dimension\n",
    "\n",
    "    \"\"\"\n",
    "    \n",
    "    if A and B are of shape (3, 4), torch.cat([A, B], dim=0) \n",
    "    will be of shape (6, 4) and torch.stack([A, B], dim=0) will be of shape (2, 3, 4).\n",
    "    \n",
    "    \"\"\"\n",
    "    \n",
    "    optimizer.zero_grad() # Sets gradients of all model paramters to zero\n",
    "    policy_loss.backward()\n",
    "    optimizer.step()\n",
    "    \n",
    "    \"\"\"\n",
    "    print(\"scores : \", scores)\n",
    "    print( \"---------------\")\n",
    "    \"\"\"\n",
    "    if i_episode % print_every == 0:\n",
    "        print('Episode {}\\tAverage Score: {:.2f}'.format(i_episode, np.mean(scores_deque)))\n",
    "        \n",
    "    if np.mean(scores_deque) >= 195.0:\n",
    "        print(\"Environment solved in {:d} episodes!\\tAverage Score: {:.2f}\".format(i_episode-100, np.mean(scores)))\n",
    "        break \n",
    "        \n",
    "#print(scores)\n",
    "    "
   ]
  },
  {
   "cell_type": "code",
   "execution_count": null,
   "metadata": {},
   "outputs": [],
   "source": [
    "policy = Policy().to(device)\n",
    "optimizer = optim.Adam(policy.parameters(), lr=1e-2)\n",
    "\n",
    "def reinforce(num_episodes=2000, max_t = 1000, gamma = 1.0, print_every = 100):\n",
    "    scores_deque = deque(maxlen=100)\n",
    "    scores = []\n",
    "    \n",
    "    for i_episode in range(1, num_episodes+1):\n",
    "        saved_log_probs = []\n",
    "        rewards = []\n",
    "        state = env.reset()\n",
    "        for t in range(max_t):\n",
    "            action, log_prob = policy.act(state)\n",
    "            saved_log_probs.append(log_prob)\n",
    "            state, reward, done, _ = env.step(action)\n",
    "            rewards.append(reward)\n",
    "            if done:\n",
    "                break\n",
    "        scores_deque.append(sum(rewards))\n",
    "        scores.append(sum(rewards))\n",
    "        \n",
    "        discounts = [ gamma**i for i in range(len(rewards)+1)]\n",
    "        R = sum( [ a*b for a,b in zip(discounts, rewards) ] )\n",
    "        \n",
    "        policy_loss = []\n",
    "        for log_prob in saved_log_probs:\n",
    "            policy_loss.append(-log_prob * R)\n",
    "            #print(\"policy_loss : \", policy_loss)\n",
    "        policy_loss = torch.cat(policy_loss).sum()\n",
    "        print(\"policy_loss : ->\", policy_loss)\n",
    "        \n",
    "        optimizer.zero_grad()\n",
    "        policy_loss.backward()\n",
    "        optimizer.step()\n",
    "        \n",
    "        if i_episode % print_every == 0:\n",
    "            print('Episode {}\\t Average Score: {:.2f}'.format(i_episode, np.mean(scores_deque)))\n",
    "            \n",
    "        if np.mean(scores_deque) >= 198.0:\n",
    "                print('Environment solved in {:d} episodes!\\tAverage Score: {:.2f}'.format(i_episode-100, np.mean(scores_deque)))\n",
    "                \n",
    "                break\n",
    "    return scores\n",
    "\n",
    "scores = reinforce()"
   ]
  },
  {
   "cell_type": "code",
   "execution_count": 47,
   "metadata": {},
   "outputs": [
    {
     "data": {
      "image/png": "[encoded data removed]",
      "text/plain": [
       "<matplotlib.figure.Figure at 0x7f4c611dae80>"
      ]
     },
     "metadata": {
      "needs_background": "light"
     },
     "output_type": "display_data"
    }
   ],
   "source": [
    "fig = plt.figure()\n",
    "ax = fig.add_subplot(111)\n",
    "plt.plot(np.arange(1, len(scores)+1), scores)\n",
    "plt.ylabel('Score')\n",
    "plt.xlabel('Episode #')\n",
    "plt.show()"
   ]
  },
  {
   "cell_type": "code",
   "execution_count": 48,
   "metadata": {},
   "outputs": [],
   "source": [
    "env = gym.make('CartPole-v0')\n",
    "\n",
    "state = env.reset()\n",
    "for t in range(1000):\n",
    "    action, _ = policy.act(state)\n",
    "    env.render()\n",
    "    state, reward, done, _ = env.step(action)\n",
    "    if done:\n",
    "        break \n",
    "\n",
    "env.close()"
   ]
  },
  {
   "cell_type": "code",
   "execution_count": null,
   "metadata": {},
   "outputs": [],
   "source": []
  }
 ],
 "metadata": {
  "kernelspec": {
   "display_name": "Python 3",
   "language": "python",
   "name": "python3"
  },
  "language_info": {
   "codemirror_mode": {
    "name": "ipython",
    "version": 3
   },
   "file_extension": ".py",
   "mimetype": "text/x-python",
   "name": "python",
   "nbconvert_exporter": "python",
   "pygments_lexer": "ipython3",
   "version": "3.6.9"
  }
 },
 "nbformat": 4,
 "nbformat_minor": 2
}
