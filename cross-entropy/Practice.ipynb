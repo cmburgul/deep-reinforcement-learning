{
 "cells": [
  {
   "cell_type": "markdown",
   "metadata": {},
   "source": [
    "# Cross-Entropy Method"
   ]
  },
  {
   "cell_type": "markdown",
   "metadata": {},
   "source": [
    "In this notebook we will train OpenAI Gym's MountainCarContinous Environment with Cross-Entropy Method"
   ]
  },
  {
   "cell_type": "markdown",
   "metadata": {},
   "source": [
    "# 1. Importing Necessarry Packages"
   ]
  },
  {
   "cell_type": "code",
   "execution_count": 1,
   "metadata": {},
   "outputs": [],
   "source": [
    "import gym\n",
    "import math\n",
    "import numpy as np\n",
    "from collections import deque\n",
    "import matplotlib.pyplot as plt\n",
    "%matplotlib inline\n",
    "\n",
    "import torch\n",
    "import torch.nn as nn\n",
    "import torch.nn.functional as F\n",
    "from torch.autograd import Variable"
   ]
  },
  {
   "cell_type": "markdown",
   "metadata": {},
   "source": [
    "# 2. Instantiate the Environment"
   ]
  },
  {
   "cell_type": "code",
   "execution_count": 2,
   "metadata": {},
   "outputs": [
    {
     "name": "stdout",
     "output_type": "stream",
     "text": [
      "observation_space : Box(2,)\n",
      "action_space : Box(1,)\n",
      " - low : [-1.]\n",
      " - high :  [ 1.]\n"
     ]
    }
   ],
   "source": [
    "device = torch.device(\"cuda:0\" if torch.cuda.is_available() else \"cpu\")\n",
    "\n",
    "env = gym.make('MountainCarContinuous-v0')\n",
    "env.seed(101)\n",
    "np.random.seed(101)\n",
    "\n",
    "print('observation_space :', env.observation_space)\n",
    "print('action_space :', env.action_space)\n",
    "print(' - low :', env.action_space.low)\n",
    "print(' - high : ', env.action_space.high)"
   ]
  },
  {
   "cell_type": "markdown",
   "metadata": {},
   "source": [
    "# 3. Instantiate the Agent"
   ]
  },
  {
   "cell_type": "code",
   "execution_count": 3,
   "metadata": {},
   "outputs": [
    {
     "data": {
      "text/plain": [
       "Agent(\n",
       "  (fc1): Linear(in_features=2, out_features=16, bias=True)\n",
       "  (fc2): Linear(in_features=16, out_features=1, bias=True)\n",
       ")"
      ]
     },
     "execution_count": 3,
     "metadata": {},
     "output_type": "execute_result"
    }
   ],
   "source": [
    "class Agent(nn.Module):\n",
    "    def __init__(self, env, h_size=16):\n",
    "        super(Agent, self).__init__()\n",
    "        self.env = env\n",
    "        # state, hidden_layer, action_sizes\n",
    "        self.s_size = env.observation_space.shape[0]\n",
    "        self.h_size = h_size\n",
    "        self.a_size = env.action_space.shape[0]\n",
    "        # define layers\n",
    "        self.fc1 = nn.Linear(self.s_size, self.h_size)\n",
    "        self.fc2 = nn.Linear(self.h_size, self.a_size)\n",
    "        \n",
    "    def forward(self , x):\n",
    "        x = F.relu(self.fc1(x))\n",
    "        x = F.tanh(self.fc2(x))\n",
    "        return x\n",
    "    \n",
    "    def set_weights(self, weights):\n",
    "        s_size = self.s_size\n",
    "        h_size = self.h_size\n",
    "        a_size = self.a_size\n",
    "        # Seperate the weights for each layer\n",
    "        fc1_end = (s_size * h_size) + h_size\n",
    "        fc1_W = torch.from_numpy(weights[:s_size*h_size].reshape(s_size, h_size))\n",
    "        fc1_b = torch.from_numpy(weights[(s_size*h_size):fc1_end])\n",
    "        fc2_W = torch.from_numpy(weights[fc1_end:fc1_end + (h_size*a_size)].reshape(h_size, a_size))\n",
    "        fc2_b = torch.from_numpy(weights[(fc1_end + (h_size*a_size)):])\n",
    "        # Set the weights for each layer\n",
    "        self.fc1.weight.data.copy_(fc1_W.view_as(self.fc1.weight.data))\n",
    "        self.fc1.bias.data.copy_(fc1_b.view_as(self.fc1.bias.data))\n",
    "        self.fc2.weight.data.copy_(fc2_W.view_as(self.fc2.weight.data))\n",
    "        self.fc2.bias.data.copy_(fc2_b.view_as(self.fc2.bias.data))\n",
    "        \n",
    "    def get_weights_dim(self):\n",
    "        return (self.s_size+1)*self.h_size + (self.h_size+1)*self.a_size\n",
    "        \n",
    "    def forward(self, x):\n",
    "        x = F.relu(self.fc1(x))\n",
    "        x = torch.tanh(self.fc2(x))\n",
    "        return x.cpu().data\n",
    "    \n",
    "    def evaluate(self, weights, gamma=1.0, max_t=5000):\n",
    "        self.set_weights(weights)\n",
    "        episode_return = 0.0\n",
    "        state = self.env.reset()\n",
    "        for t in range(max_t):\n",
    "            state = torch.from_numpy(state).float().to(device)\n",
    "            action = self.forward(state)\n",
    "            state, reward, done, _ = self.env.step(action)\n",
    "            episode_return += reward * math.pow(gamma, t)\n",
    "            if done:\n",
    "                break\n",
    "        return episode_return\n",
    "    \n",
    "agent = Agent(env).to(device)\n",
    "agent "
   ]
  },
  {
   "cell_type": "code",
   "execution_count": 4,
   "metadata": {},
   "outputs": [
    {
     "name": "stdout",
     "output_type": "stream",
     "text": [
      "2 16 1\n",
      "fc1_end : 48\n",
      "total_weights :  65\n"
     ]
    }
   ],
   "source": [
    "state_size = env.observation_space.shape[0]\n",
    "hidden_size = 16\n",
    "action_size = env.action_space.shape[0]\n",
    "print(state_size, hidden_size, action_size)\n",
    "\n",
    "fc1_end = (state_size*hidden_size) + hidden_size\n",
    "print(\"fc1_end :\", fc1_end)\n",
    "\n",
    "# Weights dimensions \n",
    "total_weights = (state_size + 1)*hidden_size + (hidden_size + 1)*action_size\n",
    "print(\"total_weights : \", total_weights)\n",
    "\n",
    "\n"
   ]
  },
  {
   "cell_type": "code",
   "execution_count": 5,
   "metadata": {},
   "outputs": [
    {
     "name": "stdout",
     "output_type": "stream",
     "text": [
      "torch.Size([16, 2])\n",
      "torch.Size([16])\n",
      "torch.Size([1, 16])\n",
      "torch.Size([1])\n"
     ]
    }
   ],
   "source": [
    "print(agent.fc1.weight.shape)\n",
    "print(agent.fc1.bias.shape)\n",
    "print(agent.fc2.weight.shape)\n",
    "print(agent.fc2.bias.shape)"
   ]
  },
  {
   "cell_type": "code",
   "execution_count": 6,
   "metadata": {},
   "outputs": [
    {
     "name": "stdout",
     "output_type": "stream",
     "text": [
      "65\n"
     ]
    }
   ],
   "source": [
    "print(agent.get_weights_dim())"
   ]
  },
  {
   "cell_type": "code",
   "execution_count": 7,
   "metadata": {},
   "outputs": [
    {
     "name": "stdout",
     "output_type": "stream",
     "text": [
      "[  2.70684984e+00   6.28132709e-01   9.07969446e-01   5.03825754e-01\n",
      "   6.51117948e-01  -3.19318045e-01  -8.48076983e-01   6.05965349e-01\n",
      "  -2.01816824e+00   7.40122057e-01   5.28813494e-01  -5.89000533e-01\n",
      "   1.88695309e-01  -7.58872056e-01  -9.33237216e-01   9.55056509e-01\n",
      "   1.90794322e-01   1.97875732e+00   2.60596728e+00   6.83508886e-01\n",
      "   3.02665449e-01   1.69372293e+00  -1.70608593e+00  -1.15911942e+00\n",
      "  -1.34840721e-01   3.90527843e-01   1.66904636e-01   1.84501859e-01\n",
      "   8.07705914e-01   7.29596753e-02   6.38787013e-01   3.29646299e-01\n",
      "  -4.97104023e-01  -7.54069701e-01  -9.43406403e-01   4.84751647e-01\n",
      "  -1.16773316e-01   1.90175480e+00   2.38126959e-01   1.99665229e+00\n",
      "  -9.93263500e-01   1.96799505e-01  -1.13664459e+00   3.66479606e-04\n",
      "   1.02598415e+00  -1.56597904e-01  -3.15791439e-02   6.49825833e-01\n",
      "   2.15484644e+00  -6.10258856e-01  -7.55325340e-01  -3.46418504e-01\n",
      "   1.47026771e-01  -4.79448039e-01   5.58769406e-01   1.02481028e+00\n",
      "  -9.25874259e-01   1.86286414e+00  -1.13381716e+00   6.10477908e-01\n",
      "   3.86030312e-01   2.08401853e+00  -3.76518675e-01   2.30336344e-01\n",
      "   6.81209293e-01]\n"
     ]
    }
   ],
   "source": [
    "weights = np.random.randn(agent.get_weights_dim())\n",
    "print(weights)"
   ]
  },
  {
   "cell_type": "code",
   "execution_count": 8,
   "metadata": {},
   "outputs": [
    {
     "name": "stdout",
     "output_type": "stream",
     "text": [
      "48\n",
      "tensor([[ 2.7068,  0.6281,  0.9080,  0.5038,  0.6511, -0.3193, -0.8481,  0.6060,\n",
      "         -2.0182,  0.7401,  0.5288, -0.5890,  0.1887, -0.7589, -0.9332,  0.9551],\n",
      "        [ 0.1908,  1.9788,  2.6060,  0.6835,  0.3027,  1.6937, -1.7061, -1.1591,\n",
      "         -0.1348,  0.3905,  0.1669,  0.1845,  0.8077,  0.0730,  0.6388,  0.3296]],\n",
      "       dtype=torch.float64) torch.Size([2, 16])\n",
      "tensor([-0.4971, -0.7541, -0.9434,  0.4848, -0.1168,  1.9018,  0.2381,  1.9967,\n",
      "        -0.9933,  0.1968, -1.1366,  0.0004,  1.0260, -0.1566, -0.0316,  0.6498],\n",
      "       dtype=torch.float64) torch.Size([16])\n",
      "tensor([[ 2.1548],\n",
      "        [-0.6103],\n",
      "        [-0.7553],\n",
      "        [-0.3464],\n",
      "        [ 0.1470],\n",
      "        [-0.4794],\n",
      "        [ 0.5588],\n",
      "        [ 1.0248],\n",
      "        [-0.9259],\n",
      "        [ 1.8629],\n",
      "        [-1.1338],\n",
      "        [ 0.6105],\n",
      "        [ 0.3860],\n",
      "        [ 2.0840],\n",
      "        [-0.3765],\n",
      "        [ 0.2303]], dtype=torch.float64) torch.Size([16, 1])\n",
      "tensor([0.6812], dtype=torch.float64) torch.Size([1])\n"
     ]
    }
   ],
   "source": [
    "fc1_end = (state_size*hidden_size) + hidden_size\n",
    "print(fc1_end)\n",
    "# Seperating weights for each layer\n",
    "fc1_W = torch.from_numpy(weights[:state_size*hidden_size].reshape(state_size, hidden_size))\n",
    "print(fc1_W, fc1_W.shape)\n",
    "fc1_b = torch.from_numpy(weights[state_size*hidden_size:fc1_end])\n",
    "print(fc1_b, fc1_b.shape)\n",
    "fc2_W = torch.from_numpy(weights[fc1_end:fc1_end + hidden_size*action_size].reshape(hidden_size, action_size))\n",
    "print(fc2_W, fc2_W.shape)\n",
    "fc2_b = torch.from_numpy(weights[(fc1_end + hidden_size*action_size):])\n",
    "print(fc2_b, fc2_b.shape)\n"
   ]
  },
  {
   "cell_type": "code",
   "execution_count": 9,
   "metadata": {},
   "outputs": [
    {
     "name": "stdout",
     "output_type": "stream",
     "text": [
      "[ 0  1  2  3  4  5  6  7  8  9 10 11 12 13 14 15 16 17 18 19 20 21 22 23 24\n",
      " 25 26 27 28 29 30 31]\n"
     ]
    }
   ],
   "source": [
    "a = np.arange(48)\n",
    "print(a[:32])"
   ]
  },
  {
   "cell_type": "code",
   "execution_count": 10,
   "metadata": {},
   "outputs": [
    {
     "name": "stdout",
     "output_type": "stream",
     "text": [
      "2\n"
     ]
    }
   ],
   "source": [
    "print(env.observation_space.shape[0])"
   ]
  },
  {
   "cell_type": "code",
   "execution_count": 11,
   "metadata": {},
   "outputs": [
    {
     "name": "stdout",
     "output_type": "stream",
     "text": [
      "1\n"
     ]
    }
   ],
   "source": [
    "print(env.action_space.shape[0])"
   ]
  },
  {
   "cell_type": "code",
   "execution_count": null,
   "metadata": {},
   "outputs": [],
   "source": []
  },
  {
   "cell_type": "markdown",
   "metadata": {},
   "source": [
    "# 3. Train the agent with the Cross-Entropy Method\n"
   ]
  },
  {
   "cell_type": "code",
   "execution_count": 12,
   "metadata": {},
   "outputs": [
    {
     "name": "stdout",
     "output_type": "stream",
     "text": [
      "Episode 10\tAverage Score: -13.57\n",
      "Episode 20\tAverage Score: -7.55\n",
      "Episode 30\tAverage Score: -5.31\n",
      "Episode 40\tAverage Score: -4.04\n",
      "Episode 50\tAverage Score: -3.32\n",
      "Episode 60\tAverage Score: -2.89\n",
      "Episode 70\tAverage Score: 4.47\n",
      "Episode 80\tAverage Score: 15.59\n",
      "Episode 90\tAverage Score: 24.40\n",
      "Episode 100\tAverage Score: 31.47\n",
      "Episode 110\tAverage Score: 42.35\n",
      "Episode 120\tAverage Score: 52.01\n",
      "Episode 130\tAverage Score: 61.57\n",
      "Episode 140\tAverage Score: 70.98\n",
      "Episode 150\tAverage Score: 80.58\n",
      "Episode 160\tAverage Score: 90.20\n",
      "\n",
      "Environment solved in 60 iterations!\tAverage Score: 90.20\n"
     ]
    },
    {
     "data": {
      "image/png": "[encoded data removed]",
      "text/plain": [
       "<matplotlib.figure.Figure at 0x7fc4716ce400>"
      ]
     },
     "metadata": {
      "needs_background": "light"
     },
     "output_type": "display_data"
    }
   ],
   "source": [
    "def cem(n_iterations=500, max_t=1000, gamma=1.0, print_every=10, pop_size=50, elite_frac=0.2, sigma=0.5):\n",
    "    \"\"\"PyTorch implementation of the cross-entropy method.\n",
    "        \n",
    "    Params\n",
    "    ======\n",
    "        n_iterations (int): maximum number of training iterations\n",
    "        max_t (int): maximum number of timesteps per episode\n",
    "        gamma (float): discount rate\n",
    "        print_every (int): how often to print average score (over last 100 episodes)\n",
    "        pop_size (int): size of population at each iteration\n",
    "        elite_frac (float): percentage of top performers to use in update\n",
    "        sigma (float): standard deviation of additive noise\n",
    "    \"\"\"\n",
    "    n_elite=int(pop_size*elite_frac)\n",
    "\n",
    "    scores_deque = deque(maxlen=100)\n",
    "    scores = []\n",
    "    best_weight = sigma*np.random.randn(agent.get_weights_dim())\n",
    "\n",
    "    for i_iteration in range(1, n_iterations+1):\n",
    "        weights_pop = [best_weight + (sigma*np.random.randn(agent.get_weights_dim())) for i in range(pop_size)]\n",
    "        rewards = np.array([agent.evaluate(weights, gamma, max_t) for weights in weights_pop])\n",
    "\n",
    "        elite_idxs = rewards.argsort()[-n_elite:]\n",
    "        elite_weights = [weights_pop[i] for i in elite_idxs]\n",
    "        best_weight = np.array(elite_weights).mean(axis=0)\n",
    "\n",
    "        reward = agent.evaluate(best_weight, gamma=1.0)\n",
    "        scores_deque.append(reward)\n",
    "        scores.append(reward)\n",
    "        \n",
    "        torch.save(agent.state_dict(), 'checkpoint.pth')\n",
    "        \n",
    "        if i_iteration % print_every == 0:\n",
    "            print('Episode {}\\tAverage Score: {:.2f}'.format(i_iteration, np.mean(scores_deque)))\n",
    "\n",
    "        if np.mean(scores_deque)>=90.0:\n",
    "            print('\\nEnvironment solved in {:d} iterations!\\tAverage Score: {:.2f}'.format(i_iteration-100, np.mean(scores_deque)))\n",
    "            break\n",
    "    return scores\n",
    "\n",
    "scores = cem()\n",
    "\n",
    "# plot the scores\n",
    "fig = plt.figure()\n",
    "ax = fig.add_subplot(111)\n",
    "plt.plot(np.arange(1, len(scores)+1), scores)\n",
    "plt.ylabel('Score')\n",
    "plt.xlabel('Episode #')\n",
    "plt.show()"
   ]
  },
  {
   "cell_type": "code",
   "execution_count": null,
   "metadata": {},
   "outputs": [],
   "source": []
  }
 ],
 "metadata": {
  "kernelspec": {
   "display_name": "Python 3",
   "language": "python",
   "name": "python3"
  },
  "language_info": {
   "codemirror_mode": {
    "name": "ipython",
    "version": 3
   },
   "file_extension": ".py",
   "mimetype": "text/x-python",
   "name": "python",
   "nbconvert_exporter": "python",
   "pygments_lexer": "ipython3",
   "version": "3.6.0"
  }
 },
 "nbformat": 4,
 "nbformat_minor": 2
}
