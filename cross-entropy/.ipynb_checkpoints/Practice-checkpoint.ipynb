{
 "cells": [
  {
   "cell_type": "markdown",
   "metadata": {},
   "source": [
    "# Cross-Entropy Method"
   ]
  },
  {
   "cell_type": "markdown",
   "metadata": {},
   "source": [
    "In this notebook we will train OpenAI Gym's MountainCarContinous Environment with Cross-Entropy Method"
   ]
  },
  {
   "cell_type": "markdown",
   "metadata": {},
   "source": [
    "# 1. Importing Necessarry Packages"
   ]
  },
  {
   "cell_type": "code",
   "execution_count": 3,
   "metadata": {},
   "outputs": [],
   "source": [
    "import gym\n",
    "import math\n",
    "import numpy as np\n",
    "from collections import deque\n",
    "import matplotlib.pyplot as plt\n",
    "%matplotlib inline\n",
    "\n",
    "import torch\n",
    "import torch.nn as nn\n",
    "import torch.nn.functional as F\n",
    "from torch.autograd import Variable"
   ]
  },
  {
   "cell_type": "markdown",
   "metadata": {},
   "source": [
    "# 2. Instantiate the Environment"
   ]
  },
  {
   "cell_type": "code",
   "execution_count": 8,
   "metadata": {},
   "outputs": [
    {
     "name": "stdout",
     "output_type": "stream",
     "text": [
      "observation_space : Box(2,)\n",
      "action_space : Box(1,)\n",
      " - low : [-1.]\n",
      " - high :  [ 1.]\n"
     ]
    }
   ],
   "source": [
    "device = torch.device(\"cuda:0\" if torch.cuda.is_available() else \"cpu\")\n",
    "\n",
    "env = gym.make('MountainCarContinuous-v0')\n",
    "env.seed(101)\n",
    "np.random.seed(101)\n",
    "\n",
    "print('observation_space :', env.observation_space)\n",
    "print('action_space :', env.action_space)\n",
    "print(' - low :', env.action_space.low)\n",
    "print(' - high : ', env.action_space.high)"
   ]
  },
  {
   "cell_type": "markdown",
   "metadata": {},
   "source": [
    "# 3. Instantiate the Agent"
   ]
  },
  {
   "cell_type": "code",
   "execution_count": 45,
   "metadata": {},
   "outputs": [
    {
     "data": {
      "text/plain": [
       "Agent(\n",
       "  (fc1): Linear(in_features=2, out_features=16, bias=True)\n",
       "  (fc2): Linear(in_features=16, out_features=1, bias=True)\n",
       ")"
      ]
     },
     "execution_count": 45,
     "metadata": {},
     "output_type": "execute_result"
    }
   ],
   "source": [
    "class Agent(nn.Module):\n",
    "    def __init__(self, env, h_size=16):\n",
    "        super(Agent, self).__init__()\n",
    "        self.env = env\n",
    "        # state, hidden_layer, action_sizes\n",
    "        self.s_size = env.observation_space.shape[0]\n",
    "        self.h_size = h_size\n",
    "        self.a_size = env.action_space.shape[0]\n",
    "        # define layers\n",
    "        self.fc1 = nn.Linear(self.s_size, self.h_size)\n",
    "        self.fc2 = nn.Linear(self.h_size, self.a_size)\n",
    "        \n",
    "    def forward(self , x):\n",
    "        x = F.relu(self.fc1(x))\n",
    "        x = F.tanh(self.fc2(x))\n",
    "        return x\n",
    "    \n",
    "    def set_weights(self, weights):\n",
    "        s_size = self.s_size\n",
    "        h_size = self.h_size\n",
    "        a_size = self.a_size\n",
    "        # Seperate the weights for each layer\n",
    "        \n",
    "    def get_weights_dim(self):\n",
    "        return (self.s_size+1)*self.h_size + (self.h_size+1)*self.a_size\n",
    "        \n",
    "    \n",
    "agent = Agent(env).to(device)\n",
    "agent"
   ]
  },
  {
   "cell_type": "code",
   "execution_count": 46,
   "metadata": {},
   "outputs": [
    {
     "name": "stdout",
     "output_type": "stream",
     "text": [
      "2 16 1\n",
      "fc1_end : 48\n",
      "total_weights :  65\n"
     ]
    }
   ],
   "source": [
    "state_size = env.observation_space.shape[0]\n",
    "hidden_size = 16\n",
    "action_size = env.action_space.shape[0]\n",
    "print(state_size, hidden_size, action_size)\n",
    "\n",
    "fc1_end = (state_size*hidden_size) + hidden_size\n",
    "print(\"fc1_end :\", fc1_end)\n",
    "\n",
    "# Weights dimensions \n",
    "total_weights = (state_size + 1)*hidden_size + (hidden_size + 1)*action_size\n",
    "print(\"total_weights : \", total_weights)\n",
    "\n",
    "\n"
   ]
  },
  {
   "cell_type": "code",
   "execution_count": 47,
   "metadata": {},
   "outputs": [
    {
     "name": "stdout",
     "output_type": "stream",
     "text": [
      "Parameter containing:\n",
      "tensor([[-0.3342,  0.0161],\n",
      "        [-0.4488,  0.0252],\n",
      "        [-0.6735,  0.0413],\n",
      "        [ 0.0717,  0.4033],\n",
      "        [-0.1758,  0.4150],\n",
      "        [-0.5208, -0.6473],\n",
      "        [ 0.3638,  0.7002],\n",
      "        [ 0.4264, -0.1199],\n",
      "        [ 0.0311,  0.1037],\n",
      "        [ 0.1214, -0.5707],\n",
      "        [ 0.5873,  0.5055],\n",
      "        [-0.4829, -0.5808],\n",
      "        [-0.3830, -0.6918],\n",
      "        [ 0.2895, -0.0285],\n",
      "        [ 0.0481, -0.6772],\n",
      "        [ 0.4852,  0.2672]], requires_grad=True)\n",
      "Parameter containing:\n",
      "tensor([-0.5706,  0.4886,  0.4718, -0.6682,  0.4775,  0.0304, -0.6244, -0.1343,\n",
      "        -0.5600, -0.5578, -0.1376, -0.2949, -0.0595,  0.6909, -0.6566, -0.0545],\n",
      "       requires_grad=True)\n"
     ]
    }
   ],
   "source": [
    "print(model.fc1.weight)\n",
    "\n",
    "print(model.fc1.bias)"
   ]
  },
  {
   "cell_type": "code",
   "execution_count": 48,
   "metadata": {},
   "outputs": [
    {
     "name": "stdout",
     "output_type": "stream",
     "text": [
      "2\n"
     ]
    }
   ],
   "source": [
    "print(env.observation_space.shape[0])"
   ]
  },
  {
   "cell_type": "code",
   "execution_count": 49,
   "metadata": {},
   "outputs": [
    {
     "name": "stdout",
     "output_type": "stream",
     "text": [
      "1\n"
     ]
    }
   ],
   "source": [
    "print(env.action_space.shape[0])"
   ]
  },
  {
   "cell_type": "markdown",
   "metadata": {},
   "source": [
    "# 3. Train the agent with the Cross-Entropy Method\n"
   ]
  },
  {
   "cell_type": "code",
   "execution_count": 56,
   "metadata": {
    "scrolled": true
   },
   "outputs": [
    {
     "name": "stdout",
     "output_type": "stream",
     "text": [
      "num_elite : 10.0\n",
      "[ -3.64733168e-01  -3.60054874e-01  -1.42628383e-01   1.04526957e+00\n",
      "   5.02028074e-01   5.15957930e-01  -5.40559139e-01  -1.77480545e-04\n",
      "  -1.09940774e-01   1.46397565e-01   4.17177261e-01  -7.02159155e-02\n",
      "   5.95724812e-02   3.32857293e-01   2.03793225e-01   4.03921372e-01\n",
      "  -1.36823222e+00  -4.92576427e-01  -7.76378752e-02  -5.06614006e-01\n",
      "  -5.43717945e-01  -1.28388346e+00   3.30514599e-01  -1.66460400e-01\n",
      "  -4.64301137e-01   8.57975083e-01  -2.34378143e-01   4.30048518e-01\n",
      "   1.15043522e-01   3.09328997e-01  -1.02628146e+00  -8.33230580e-02\n",
      "  -2.22936391e-01   3.42936882e-01   1.39250483e+00   7.61875229e-01\n",
      "   6.45114965e-01  -7.39159682e-01   1.07117097e-01  -1.20254974e-01\n",
      "  -7.10474738e-01   1.60829793e-01   5.03662066e-01   1.64891826e-01\n",
      "   4.60262586e-01   6.74568762e-01  -1.88930747e-01   9.77709944e-01\n",
      "  -4.29152106e-01  -1.11105122e-01  -2.56014319e-02  -2.19564012e-01\n",
      "  -7.50520618e-01   5.29178463e-01   9.27483581e-01   2.51125168e-01\n",
      "   5.72904383e-02  -1.84243748e-01   2.29671534e-01   2.92756342e-01\n",
      "  -9.09518448e-02  -3.01617733e-01  -1.27633013e+00  -1.59634872e-02\n",
      "   7.03594422e-01]\n"
     ]
    }
   ],
   "source": [
    "sigma = 0.5\n",
    "pop_size = 50\n",
    "elite_frac = 0.2\n",
    "num_iter = 500\n",
    "max_t = 1000\n",
    "\n",
    "\"\"\"\n",
    "Paramters\n",
    "======\n",
    "    num_iter (int) : maximum number of iterations\n",
    "    max_t (int) : maximum number of time steps per episode\n",
    "    gamma (float) : discount rate\n",
    "    pop_size (int) : population_size\n",
    "    elite_frac (float) : percentage of top performace to use in update\n",
    "    sigma (float) : standard deviation of additive noice\n",
    "\n",
    "\"\"\"\n",
    "\n",
    "num_elite = pop_size * elite_frac\n",
    "print(\"num_elite :\", num_elite)\n",
    "scores_deque = deque(maxlen=100)\n",
    "scores = []\n",
    "best_weight = sigma*np.random.randn(agent.get_weights_dim())\n",
    "print(best_weight)\n",
    "\n",
    "for i_iteration in range(1, num_iter+1):\n",
    "    "
   ]
  },
  {
   "cell_type": "code",
   "execution_count": null,
   "metadata": {},
   "outputs": [],
   "source": [
    "weights_pop = [ best_weight + () ]"
   ]
  },
  {
   "cell_type": "code",
   "execution_count": null,
   "metadata": {},
   "outputs": [],
   "source": []
  }
 ],
 "metadata": {
  "kernelspec": {
   "display_name": "Python 3",
   "language": "python",
   "name": "python3"
  },
  "language_info": {
   "codemirror_mode": {
    "name": "ipython",
    "version": 3
   },
   "file_extension": ".py",
   "mimetype": "text/x-python",
   "name": "python",
   "nbconvert_exporter": "python",
   "pygments_lexer": "ipython3",
   "version": "3.6.0"
  }
 },
 "nbformat": 4,
 "nbformat_minor": 2
}
